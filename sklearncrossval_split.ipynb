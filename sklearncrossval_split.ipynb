{
  "nbformat": 4,
  "nbformat_minor": 0,
  "metadata": {
    "colab": {
      "name": "sklearncrossval_split.ipynb",
      "provenance": [],
      "authorship_tag": "ABX9TyOPpdCiT1M7j6Dlg9sYGB6k",
      "include_colab_link": true
    },
    "kernelspec": {
      "name": "python3",
      "display_name": "Python 3"
    },
    "language_info": {
      "name": "python"
    }
  },
  "cells": [
    {
      "cell_type": "markdown",
      "metadata": {
        "id": "view-in-github",
        "colab_type": "text"
      },
      "source": [
        "<a href=\"https://colab.research.google.com/github/sriwulandari13/machinelearning/blob/main/sklearncrossval_split.ipynb\" target=\"_parent\"><img src=\"https://colab.research.google.com/assets/colab-badge.svg\" alt=\"Open In Colab\"/></a>"
      ]
    },
    {
      "cell_type": "code",
      "execution_count": 2,
      "metadata": {
        "colab": {
          "base_uri": "https://localhost:8080/"
        },
        "id": "GcD8HCuA_qzs",
        "outputId": "9d7cf3fc-6389-4145-f388-6442fccba8dc"
      },
      "outputs": [
        {
          "output_type": "execute_result",
          "data": {
            "text/plain": [
              "array([0.96666667, 0.96666667, 0.9       , 1.        , 1.        ])"
            ]
          },
          "metadata": {},
          "execution_count": 2
        }
      ],
      "source": [
        "#menggunakan cross validation untuk classifier decision_tree\n",
        "#menggunakan dataset iris\n",
        "\n",
        "import sklearn\n",
        "from sklearn import datasets\n",
        "#load iris dataset\n",
        "iris = datasets.load_iris()\n",
        "\n",
        "#atribut dan label pd dataset\n",
        "x = iris.data\n",
        "y = iris.target\n",
        "\n",
        "from sklearn import tree\n",
        "#buat model dg decision tree classifier\n",
        "clf = tree.DecisionTreeClassifier()\n",
        "\n",
        "from sklearn.model_selection import cross_val_score\n",
        "#evaluasi performa model dg cross_val_score\n",
        "scores = cross_val_score(clf, x, y, cv =5) #crossvalscore mengembalikan nilai array\n",
        "scores"
      ]
    }
  ]
}